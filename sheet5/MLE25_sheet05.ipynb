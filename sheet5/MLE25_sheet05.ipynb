{
 "cells": [
  {
   "cell_type": "markdown",
   "id": "8bf3cace",
   "metadata": {},
   "source": [
    "# Machine Learning Essentials SS25 - Exercise Sheet 5\n",
    "\n",
    "## Instructions\n",
    "- `TODO`'s indicate where you need to complete the implementations.\n",
    "- You may use external resources, but <b>write your own solutions</b>.\n",
    "- Provide concise, but comprehensible comments to explain what your code does.\n",
    "- Code that's unnecessarily extensive and/or not well commented will not be scored."
   ]
  },
  {
   "cell_type": "markdown",
   "id": "77bfad01",
   "metadata": {},
   "source": [
    "## Exercise 1"
   ]
  },
  {
   "cell_type": "markdown",
   "id": "36db538a",
   "metadata": {},
   "source": [
    "## Exercise 2"
   ]
  },
  {
   "cell_type": "code",
   "execution_count": null,
   "id": "146c20f4",
   "metadata": {},
   "outputs": [],
   "source": [
    "import matplotlib.pyplot as plt\n",
    "import numpy as np\n",
    "# TODO: Import the stuff you need from torch and torchvision\n",
    "\n",
    "\"\"\"\"\n",
    "If you stay in ML-related fields, you will likely be working on a server or cluster. If you do so,\n",
    "always remember to set the number of CPU (or even GPU) threads you're using, as Jupyter notebooks or Python scripts \n",
    "might sometimes use all available threads by default, which will lead to unhappy colleagues or classmates that\n",
    "also want to use some of the threads.\n",
    "\"\"\"\n",
    "# Example of limiting CPU threads:\n",
    "# import os\n",
    "# os.environ[\"OMP_NUM_THREADS\"] = \"15\"\n",
    "# os.environ[\"MKL_NUM_THREADS\"] = \"15\"\n",
    "# torch.set_num_threads(15) # If you only want to use PyTorch threads"
   ]
  },
  {
   "cell_type": "markdown",
   "id": "85ebc564",
   "metadata": {},
   "source": [
    "### 2.1"
   ]
  },
  {
   "cell_type": "code",
   "execution_count": null,
   "id": "19ad4698",
   "metadata": {},
   "outputs": [],
   "source": [
    "# TODO: Define transformations\n",
    "# Given statistics of training set:\n",
    "mu_train = 0.286\n",
    "std_train = 0.353\n",
    "transform = \n",
    "\n",
    "# TODO: Load FashionMNIST train/testsets\n",
    "train_dataset_full = \n",
    "test_dataset =\n",
    "\n",
    "print(f\"Full training dataset size: {len(train_dataset_full)}\")\n",
    "print(f\"Test dataset size: {len(test_dataset)}\")"
   ]
  },
  {
   "cell_type": "code",
   "execution_count": null,
   "id": "bdc8aa29",
   "metadata": {},
   "outputs": [],
   "source": [
    "# TODO: Create 5x2 subplot grid w/ example image for each class"
   ]
  },
  {
   "cell_type": "code",
   "execution_count": null,
   "id": "22963f3d",
   "metadata": {},
   "outputs": [],
   "source": [
    "# TODO: Create a validation set from the training set"
   ]
  },
  {
   "cell_type": "markdown",
   "id": "d86eef7b",
   "metadata": {},
   "source": [
    "### 2.2"
   ]
  },
  {
   "cell_type": "code",
   "execution_count": null,
   "id": "c2bf14e8",
   "metadata": {},
   "outputs": [],
   "source": [
    "# TODO: Define your model architecture: A class called MLP that inherits from nn.Module\n",
    "class MLP(nn.Module):\n",
    "    ...\n",
    "\n",
    "# TODO: Define appropriate loss\n",
    "criterion = "
   ]
  },
  {
   "cell_type": "markdown",
   "id": "a67f0acd",
   "metadata": {},
   "source": [
    "### 2.3"
   ]
  },
  {
   "cell_type": "code",
   "execution_count": null,
   "id": "efcdf120",
   "metadata": {},
   "outputs": [],
   "source": [
    "BATCH_SIZE_DEFAULT =  # TODO: Set your default batch size. The capitalization is a convention used for global constants in Python\n",
    "\n",
    "#TODO: Define DataLoaders for training, validation, and test sets"
   ]
  },
  {
   "cell_type": "code",
   "execution_count": null,
   "id": "2815d0e8",
   "metadata": {},
   "outputs": [],
   "source": [
    "def calculate_accuracy(outputs, labels):\n",
    "    \"\"\"\n",
    "    Calculate accuracy given model outputs and true labels.\n",
    "    \"\"\"\n",
    "    _, predicted = torch.max(outputs.data, 1) # Prediction = class with highest output probability\n",
    "    total = labels.size(0) \n",
    "    correct = (predicted == labels).sum().item() #.item() converts a single-element tensor to a Python number (\"scalar\")\n",
    "    return correct / total\n",
    "\n",
    "def train_model(model, criterion, optimizer, train_loader, val_loader, num_epochs):\n",
    "    # Device configuration: if available use GPU (needs CUDA installed and GPU with PyTorch support), otherwise CPU\n",
    "    device = torch.device('cuda' if torch.cuda.is_available() else 'cpu')\n",
    "    model.to(device)\n",
    "    print(f\"Training on device: {device}\")\n",
    "\n",
    "    # TODO: Define training loop that for each epoch iterates over all mini-batches in the training set \n",
    "    # Record and return the training&validation loss and accuracy for each epoch\n",
    "\n",
    "    return train_losses, val_losses, train_accuracies, val_accuracies"
   ]
  },
  {
   "cell_type": "markdown",
   "id": "30aa7198",
   "metadata": {},
   "source": [
    "### 2.4"
   ]
  },
  {
   "cell_type": "code",
   "execution_count": null,
   "id": "3ec38095",
   "metadata": {},
   "outputs": [],
   "source": [
    "# TODO: Define hyperparameter grid for tuning\n",
    "\n",
    "# TODO: For each hyperparameter setting, instantiate model&optimizer, \n",
    "# train the model, and store the results for evaluation later"
   ]
  },
  {
   "cell_type": "code",
   "execution_count": null,
   "id": "165ad17f",
   "metadata": {},
   "outputs": [],
   "source": [
    "# TODO: Plot evolution of validation accuracy for each hyperparameter setting"
   ]
  },
  {
   "cell_type": "markdown",
   "id": "1075598c",
   "metadata": {},
   "source": [
    "**TODO**: Justify which batch size and learning rate combination you will go with."
   ]
  },
  {
   "cell_type": "markdown",
   "id": "af9ab1d3",
   "metadata": {},
   "source": [
    "### 2.4"
   ]
  },
  {
   "cell_type": "code",
   "execution_count": null,
   "id": "289a0e58",
   "metadata": {},
   "outputs": [],
   "source": [
    "# TODO: Train model w/ best hyperparameters for SGD and compare to default Adam optimizer"
   ]
  },
  {
   "cell_type": "code",
   "execution_count": null,
   "id": "3d5bca2f",
   "metadata": {},
   "outputs": [],
   "source": [
    "# TODO: Plot \"learning curves\" of the best SGD model and the Adam model"
   ]
  },
  {
   "cell_type": "markdown",
   "id": "0f19e0e1",
   "metadata": {},
   "source": [
    "**TODO**: Based on plots, compare (mini-batch) SGD and Adam, select overall best Model"
   ]
  },
  {
   "cell_type": "code",
   "execution_count": null,
   "id": "40910c26",
   "metadata": {},
   "outputs": [],
   "source": [
    "#TODO: Evaluate the best model on the test set, print the test/train/validation accuracy"
   ]
  },
  {
   "cell_type": "markdown",
   "id": "ad7bee68",
   "metadata": {},
   "source": [
    "**TODO**: Briefly discuss your results.\n"
   ]
  }
 ],
 "metadata": {
  "kernelspec": {
   "display_name": "ml_homework",
   "language": "python",
   "name": "python3"
  },
  "language_info": {
   "codemirror_mode": {
    "name": "ipython",
    "version": 3
   },
   "file_extension": ".py",
   "mimetype": "text/x-python",
   "name": "python",
   "nbconvert_exporter": "python",
   "pygments_lexer": "ipython3",
   "version": "3.13.2"
  }
 },
 "nbformat": 4,
 "nbformat_minor": 5
}
